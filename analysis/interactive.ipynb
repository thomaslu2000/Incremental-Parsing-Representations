{
 "cells": [
  {
   "cell_type": "code",
   "execution_count": 1,
   "metadata": {},
   "outputs": [],
   "source": [
    "\"\"\"\n",
    "Note: I didn't want to include the model weights to github bc of its size, \n",
    "so you might need to download them yourself\n",
    "\n",
    "path in savio:\n",
    "/global/scratch/tlu2000/dev/models/\n",
    "\n",
    "it was saved to ../models/ when I ran it\n",
    "\"\"\";"
   ]
  },
  {
   "cell_type": "code",
   "execution_count": 2,
   "metadata": {},
   "outputs": [],
   "source": [
    "import sys\n",
    "sys.path.append(\"../src\")\n",
    "import torch\n",
    "from benepar import decode_chart\n",
    "from benepar import nkutil\n",
    "from benepar import parse_chart\n",
    "from tree_transforms import collapse_unlabel_binarize\n",
    "from treebanks import ParsingExample, Treebank\n",
    "import numpy as np\n",
    "from nltk.tree import Tree"
   ]
  },
  {
   "cell_type": "code",
   "execution_count": 3,
   "metadata": {},
   "outputs": [],
   "source": [
    "class IParser():\n",
    "    def __init__(self, model_path_base):\n",
    "#         self.info = torch.load(model_path_base, map_location=lambda storage, location: storage)\n",
    "        self.parser = parse_chart.ChartParser.from_trained(model_path_base)\n",
    "    \n",
    "    def remove_pos(self, tree):\n",
    "        \"\"\"\n",
    "        mutates tree to remove the POS that has to be added\n",
    "        \"\"\"\n",
    "        if isinstance(tree, str) or len(tree) < 1:\n",
    "            return\n",
    "        for i in range(len(tree)):\n",
    "            if isinstance(tree[i], str):\n",
    "                continue\n",
    "            elif tree[i].label() == 'UNK':\n",
    "                tree[i] = tree[i][0]\n",
    "            else:\n",
    "                self.remove_pos(tree[i])\n",
    "    \n",
    "    def parse_sentence(self, sent):\n",
    "        words = sent.split()\n",
    "        treebank = Treebank([\n",
    "            ParsingExample(tree=None, words=words, space_after=[True for w in words],\\\n",
    "                           _pos=[(w, 'UNK') for w in words])\n",
    "        ])\n",
    "        tree, cats = self.parser.parse(treebank, return_cats=True, tau=0)[0]\n",
    "        self.remove_pos(tree)\n",
    "        return tree, cats\n",
    "    \n",
    "    def tree_from_cats(self, cats, words='cat'):\n",
    "        tree = self.parser.parse([cats], tau=0)[0]\n",
    "        self.remove_pos(tree)\n",
    "        return tree"
   ]
  },
  {
   "cell_type": "code",
   "execution_count": 4,
   "metadata": {},
   "outputs": [
    {
     "name": "stdout",
     "output_type": "stream",
     "text": [
      "gpt2\n"
     ]
    },
    {
     "name": "stderr",
     "output_type": "stream",
     "text": [
      "Some weights of GPT2Model were not initialized from the model checkpoint at gpt2 and are newly initialized: ['h.0.attn.masked_bias', 'h.1.attn.masked_bias', 'h.2.attn.masked_bias', 'h.3.attn.masked_bias', 'h.4.attn.masked_bias', 'h.5.attn.masked_bias', 'h.6.attn.masked_bias', 'h.7.attn.masked_bias', 'h.8.attn.masked_bias', 'h.9.attn.masked_bias', 'h.10.attn.masked_bias', 'h.11.attn.masked_bias']\n",
      "You should probably TRAIN this model on a down-stream task to be able to use it for predictions and inference.\n"
     ]
    }
   ],
   "source": [
    "iparse = IParser(\"../models/gpn_2label_d2_gpt2_7509601_dev=91.39.pt\")"
   ]
  },
  {
   "cell_type": "code",
   "execution_count": 5,
   "metadata": {},
   "outputs": [
    {
     "name": "stdout",
     "output_type": "stream",
     "text": [
      "[0 1 1 0 1 0 1 1 0 0 0]\n"
     ]
    },
    {
     "data": {
      "image/png": "[encoded data removed]",
      "text/plain": [
       "Tree('TOP', [Tree('S', [Tree('S', ['the', 'cat']), Tree('S', [Tree('S', [Tree('S', ['the', 'dog']), Tree('S', ['the', Tree('S', ['mouse', 'ate'])])]), Tree('S', ['sat', 'chased'])])])])"
      ]
     },
     "metadata": {},
     "output_type": "display_data"
    }
   ],
   "source": [
    "tree2, cats = iparse.parse_sentence(\"the cat the dog the mouse ate sat chased\")\n",
    "print(cats)\n",
    "display(tree2)"
   ]
  },
  {
   "cell_type": "code",
   "execution_count": 31,
   "metadata": {},
   "outputs": [
    {
     "data": {
      "image/png": "[encoded data removed]",
      "text/plain": [
       "Tree('TOP', [Tree('S', [Tree('S', ['1', '1']), Tree('S', ['1', Tree('S', ['1', Tree('S', ['1', Tree('S', ['1', Tree('S', ['1', '1'])])])])])])])"
      ]
     },
     "execution_count": 31,
     "metadata": {},
     "output_type": "execute_result"
    }
   ],
   "source": [
    "iparse.tree_from_cats([0, 1, 1, 1, 1, 1, 1, 1, 1, 0])"
   ]
  },
  {
   "cell_type": "code",
   "execution_count": null,
   "metadata": {},
   "outputs": [],
   "source": []
  },
  {
   "cell_type": "code",
   "execution_count": null,
   "metadata": {},
   "outputs": [],
   "source": [
    "# iparse.tree_from_cats(categories)"
   ]
  },
  {
   "cell_type": "code",
   "execution_count": null,
   "metadata": {},
   "outputs": [],
   "source": [
    "# needs to be relative positiona\n",
    "\n",
    "def tree_diff_node(tree1, tree2, num_prev=2):\n",
    "    \"\"\"\n",
    "    returns the part of the tree where a change occured. \n",
    "    \"\"\"\n",
    "    diff = [tree1, tree2]\n",
    "    while True:\n",
    "        tree1, tree2 = diff\n",
    "        if tree1 == tree2:\n",
    "            return \"no change\"\n",
    "        if len(tree1) != len(tree2):\n",
    "            return tree1, tree2\n",
    "        diff = []\n",
    "        for sub1, sub2 in zip(tree1, tree2):\n",
    "            if sub1 != sub2:\n",
    "                if not diff:\n",
    "                    diff = [sub1, sub2]\n",
    "                else:\n",
    "                    return tree1, tree2\n",
    "\n",
    "                \n",
    "# do things like in same tree, left branch, etc\n",
    "def to_top(tree2):\n",
    "    # check if new token is a child of root, but second to last wasn't\n",
    "    tree2_top = tree2[-1][0] == tree2.leaves()[-1]\n",
    "    tree1_not_top = tree2[-2][0] != tree2.leaves()[-2]\n",
    "    return tree1_not_top and tree2_top\n",
    "\n",
    "def sister(tree2):\n",
    "    # use tree_diff_node, second tree follows /\\\n",
    "    leaves = tree2.leaves()\n",
    "    t2 = tree2[tree2.treeposition_spanning_leaves(len(leaves)-2, len(leaves))]\n",
    "#     display(t2)\n",
    "    return len(t2) > 1 and t2[-2][0] == leaves[-2] and t2[-1][0] == leaves[-1]\n",
    "\n",
    "def aunt(tree2):\n",
    "    # new token c-commands old\n",
    "    # use tree_diff_node, new token child of root, but not old\n",
    "    leaves = tree2.leaves()\n",
    "    t2 = tree2[tree2.treeposition_spanning_leaves(len(leaves)-2, len(leaves))]\n",
    "#     display(t2)\n",
    "    return len(t2) > 1 and type(t2[-2][-1])==Tree and  t2[-2][-1] != leaves[-2] and t2[-1][0] == leaves[-1]\n",
    "\n"
   ]
  },
  {
   "cell_type": "code",
   "execution_count": null,
   "metadata": {},
   "outputs": [],
   "source": [
    "tree1, categories1 = iparse.parse_sentence('I wanted to eat')\n",
    "display(tree1)\n",
    "tree2, categories2 = iparse.parse_sentence('I wanted to eat and')\n",
    "display(tree2)\n",
    "print('top', to_top(tree2))\n",
    "print('sis', sister(tree2))\n",
    "print('aunt', aunt(tree2))"
   ]
  },
  {
   "cell_type": "code",
   "execution_count": null,
   "metadata": {},
   "outputs": [],
   "source": [
    "tree1, categories1 = iparse.parse_sentence('I have one ')\n",
    "display(tree1)\n",
    "tree2, categories2 = iparse.parse_sentence('I have one cat')\n",
    "display(tree2)\n",
    "print('top', to_top(tree2))\n",
    "print('sis', sister(tree2))\n",
    "print('aunt', aunt(tree2))"
   ]
  },
  {
   "cell_type": "code",
   "execution_count": null,
   "metadata": {},
   "outputs": [],
   "source": [
    "tree1, categories1 = iparse.parse_sentence('I thought I ate ')\n",
    "display(tree1)\n",
    "tree2, categories2 = iparse.parse_sentence('I thought I ate him.')\n",
    "display(tree2)\n",
    "print('top', to_top(tree2))\n",
    "print('sis', sister(tree2))\n",
    "print('aunt', aunt(tree2))"
   ]
  },
  {
   "cell_type": "code",
   "execution_count": null,
   "metadata": {},
   "outputs": [],
   "source": [
    "from collections import defaultdict\n",
    "\n",
    "def make_stat_dict(cats):\n",
    "    stat_dict = {'top': defaultdict(int), 'sis': defaultdict(int), 'aunt': defaultdict(int), 'n':defaultdict(int)}\n",
    "\n",
    "    for cat in cats:\n",
    "        tree = iparse.tree_from_cats(cat, words='idx')\n",
    "        last2 = tuple(cat[-3:-1])\n",
    "        stat_dict['n'][last2] += 1\n",
    "        for label, func in [['top', to_top], ['sis', sister], ['aunt', aunt]]:\n",
    "            if func(tree):\n",
    "                stat_dict[label][last2] += 1\n",
    "\n",
    "    return stat_dict\n",
    "\n",
    "def num2list(i, cats=4, sen_len=4):\n",
    "    curr = []\n",
    "    for _ in range(sen_len):\n",
    "        curr.append(i % cats)\n",
    "        i //= cats\n",
    "    return curr\n",
    "\n",
    "def print_proportions(cats, num_cats=4):\n",
    "    stat_dict = make_stat_dict(cats)\n",
    "    print(\"proportions of each class\")\n",
    "    for label, d in stat_dict.items():\n",
    "        if label != 'n':\n",
    "            print(label, sum(d.values()) / sum(stat_dict['n'].values()))\n",
    "    print(\"_\"*50, '\\n')\n",
    "    \n",
    "    print(\"as last key\")\n",
    "    for i in range(num_cats):\n",
    "        print('Key: ', i)\n",
    "        for label, d in stat_dict.items():\n",
    "            if label != 'n':\n",
    "                a = 0\n",
    "                n = 0\n",
    "                for j in range(num_cats):\n",
    "                    a += d[(j, i)]\n",
    "                    n += stat_dict['n'][(j, i)]\n",
    "                if n > 0:\n",
    "                    print(label, a / n, '\\n')\n",
    "    print(\"_\"*50, '\\n')\n",
    "    \n",
    "    print(\"as second to last key\")\n",
    "    for i in range(num_cats):\n",
    "        print('Key: ', i)\n",
    "        for label, d in stat_dict.items():\n",
    "            if label != 'n':\n",
    "                a = 0\n",
    "                n = 0\n",
    "                for j in range(num_cats):\n",
    "                    a += d[(i,j)]\n",
    "                    n += stat_dict['n'][(i,j)]\n",
    "                if n > 0:\n",
    "                    print(label, a / n, '\\n')\n",
    "    print(\"_\"*50, '\\n')\n",
    "    for key in stat_dict['n'].keys():\n",
    "        print(\"Key: \", key)\n",
    "        for label, d in stat_dict.items():\n",
    "            if label != 'n':\n",
    "                print(label, d[key] / stat_dict['n'][key], '\\n')\n",
    "        print('='*50, '\\n')"
   ]
  },
  {
   "cell_type": "code",
   "execution_count": null,
   "metadata": {},
   "outputs": [],
   "source": [
    "def make_gen(num_words, num_cats=4):\n",
    "    for i in range(num_cats**num_words):\n",
    "        yield [1] + num2list(i, cats=num_cats, sen_len=num_words) + [0]\n",
    "        \n",
    "print('2 words')\n",
    "print_proportions(make_gen(2, num_cats=4))"
   ]
  },
  {
   "cell_type": "code",
   "execution_count": null,
   "metadata": {},
   "outputs": [],
   "source": [
    "print('3 words')\n",
    "print_proportions(make_gen(3, num_cats=4))"
   ]
  },
  {
   "cell_type": "code",
   "execution_count": null,
   "metadata": {},
   "outputs": [],
   "source": [
    "print('4 words')\n",
    "print_proportions(make_gen(4, num_cats=4))"
   ]
  },
  {
   "cell_type": "code",
   "execution_count": null,
   "metadata": {},
   "outputs": [],
   "source": [
    "print('5 words')\n",
    "print_proportions(make_gen(5, num_cats=4))"
   ]
  },
  {
   "cell_type": "code",
   "execution_count": null,
   "metadata": {},
   "outputs": [],
   "source": [
    "print('6 words')\n",
    "print_proportions(make_gen(6, num_cats=4))"
   ]
  },
  {
   "cell_type": "code",
   "execution_count": null,
   "metadata": {},
   "outputs": [],
   "source": [
    "print('7 words')\n",
    "print_proportions(make_gen(7, num_cats=4))"
   ]
  },
  {
   "cell_type": "code",
   "execution_count": null,
   "metadata": {},
   "outputs": [],
   "source": []
  }
 ],
 "metadata": {
  "kernelspec": {
   "display_name": "Python 3",
   "language": "python",
   "name": "python3"
  },
  "language_info": {
   "codemirror_mode": {
    "name": "ipython",
    "version": 3
   },
   "file_extension": ".py",
   "mimetype": "text/x-python",
   "name": "python",
   "nbconvert_exporter": "python",
   "pygments_lexer": "ipython3",
   "version": "3.8.3"
  }
 },
 "nbformat": 4,
 "nbformat_minor": 4
}
