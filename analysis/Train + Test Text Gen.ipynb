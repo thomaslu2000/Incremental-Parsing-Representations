{
 "cells": [
  {
   "cell_type": "code",
   "execution_count": 1,
   "metadata": {},
   "outputs": [],
   "source": [
    "import sys\n",
    "sys.path.append(\"../src\")\n",
    "import numpy as np\n",
    "import nltk\n",
    "from nltk.tag import pos_tag, map_tag\n",
    "from nltk.tree import Tree\n",
    "import matplotlib.pyplot as plt\n",
    "from collections import defaultdict\n",
    "import pandas as pd\n",
    "from iparse_vq import IParser\n",
    "import evaluate\n",
    "import torch\n",
    "import torch_struct\n",
    "import re"
   ]
  },
  {
   "cell_type": "code",
   "execution_count": 2,
   "metadata": {},
   "outputs": [],
   "source": [
    "# iparse = IParser(\"../models/en_label_gpt2_medium_cat256\")\n",
    "\n",
    "model = '32'\n",
    "\n",
    "iparse = IParser(f\"../models/{model}.pt\")"
   ]
  },
  {
   "cell_type": "code",
   "execution_count": 3,
   "metadata": {},
   "outputs": [],
   "source": [
    "# cats as both POS and Word\n",
    "#     also simple pos\n",
    "\n",
    "def rewrite_tree(treebank_tree, cats, replace_both=False):\n",
    "    \n",
    "    # Treebank tree must be an NLTK tree\n",
    "    \n",
    "    tree = treebank_tree.copy(deep=True)\n",
    "    assert len(tree.leaves()) == len(cats), 'Size of tree is different from number of categories'\n",
    "    for i, leafPos in enumerate(tree.treepositions('leaves')):\n",
    "        if replace_both:\n",
    "            tree[leafPos[:-1]] = Tree(str(cats[i]), [str(cats[i])])\n",
    "        else:\n",
    "            tree[leafPos] = str(cats[i])\n",
    "\n",
    "# #         using cats as POS, keeping word\n",
    "#         tree[leafPos[:-1]] = Tree(str(cats[i]), [tree[leafPos]])\n",
    "    return tree\n",
    "\n",
    "def output_string(treebank_tree):\n",
    "    return re.sub(r'\\s+', ' ', str(treebank_tree).replace('\\n', '').strip()) + '\\n'"
   ]
  },
  {
   "cell_type": "code",
   "execution_count": 6,
   "metadata": {
    "scrolled": true
   },
   "outputs": [
    {
     "name": "stderr",
     "output_type": "stream",
     "text": [
      "/Users/thomas/anaconda3/lib/python3.8/site-packages/torch/distributions/distribution.py:44: UserWarning: <class 'torch_struct.distributions.TreeCRF'> does not define `arg_constraints`. Please set `arg_constraints = {}` or initialize the distribution with `validate_args=False` to turn off validation.\n",
      "  warnings.warn(f'{self.__class__} does not define `arg_constraints`. ' +\n"
     ]
    }
   ],
   "source": [
    "dev_treebank = iparse.load_dev(max_len_dev=999999)\n",
    "\n",
    "dev_predicted_and_cats, encoded = iparse.parser.parse(\n",
    "    dev_treebank.without_gold_annotations(),\n",
    "    subbatch_max_tokens=500,\n",
    "    tau=0.0,\n",
    "    return_cats=True,\n",
    "    return_encoded=True\n",
    ")"
   ]
  },
  {
   "cell_type": "code",
   "execution_count": 7,
   "metadata": {},
   "outputs": [],
   "source": [
    "# # dev_treebank = iparse.load_dev(max_len_dev=999999)\n",
    "\n",
    "# with open(f'simple_pos_test_only.txt', 'a') as the_file:\n",
    "#     for dev_tree in dev_treebank:\n",
    "#         cats = [map_tag('en-ptb', 'universal', pos[1]) for pos in dev_tree.tree.pos()]\n",
    "#         induced_tree = rewrite_tree(dev_tree.tree, cats, replace_both=True)\n",
    "#         the_file.write(output_string(induced_tree))"
   ]
  },
  {
   "cell_type": "code",
   "execution_count": 8,
   "metadata": {},
   "outputs": [],
   "source": [
    "with open(f'dcat_gold_test_{model}_only.txt', 'w') as the_file:\n",
    "    for dev_tree, (tree, cats) in zip(dev_treebank, dev_predicted_and_cats):\n",
    "        induced_tree = rewrite_tree(dev_tree.tree, cats, replace_both=True)\n",
    "        the_file.write(output_string(induced_tree))\n",
    "        \n"
   ]
  },
  {
   "cell_type": "code",
   "execution_count": 9,
   "metadata": {},
   "outputs": [],
   "source": [
    "with open(f'dcat_test_{model}_only.txt', 'w') as the_file:\n",
    "    for (tree, cats) in dev_predicted_and_cats:\n",
    "        induced_tree = rewrite_tree(tree, cats, replace_both=True)\n",
    "        the_file.write(output_string(induced_tree))"
   ]
  },
  {
   "cell_type": "code",
   "execution_count": 10,
   "metadata": {},
   "outputs": [],
   "source": [
    "del dev_treebank\n",
    "del dev_predicted_and_cats\n",
    "del encoded"
   ]
  },
  {
   "cell_type": "code",
   "execution_count": 4,
   "metadata": {},
   "outputs": [
    {
     "name": "stderr",
     "output_type": "stream",
     "text": [
      "/Users/thomas/anaconda3/lib/python3.8/site-packages/torch/distributions/distribution.py:44: UserWarning: <class 'torch_struct.distributions.TreeCRF'> does not define `arg_constraints`. Please set `arg_constraints = {}` or initialize the distribution with `validate_args=False` to turn off validation.\n",
      "  warnings.warn(f'{self.__class__} does not define `arg_constraints`. ' +\n"
     ]
    }
   ],
   "source": [
    "train_treebank = iparse.load_train(max_len_dev=40)\n",
    "\n",
    "train_predicted_and_cats, encoded = iparse.parser.parse(\n",
    "    train_treebank.without_gold_annotations(),\n",
    "    subbatch_max_tokens=500,\n",
    "    tau=0.0,\n",
    "    return_cats=True,\n",
    "    return_encoded=True\n",
    ")"
   ]
  },
  {
   "cell_type": "code",
   "execution_count": 5,
   "metadata": {},
   "outputs": [],
   "source": [
    "with open(f'dcat_train_{model}_only.txt', 'w') as the_file:\n",
    "    for (tree, cats) in train_predicted_and_cats:\n",
    "        induced_tree = rewrite_tree(tree, cats, replace_both=True)\n",
    "        the_file.write(output_string(induced_tree))"
   ]
  },
  {
   "cell_type": "code",
   "execution_count": 11,
   "metadata": {},
   "outputs": [],
   "source": [
    "# with open(f'simple_pos_train_only.txt', 'a') as the_file:\n",
    "#     for train_tree in train_treebank:\n",
    "#         cats = [map_tag('en-ptb', 'universal', pos[1]) for pos in train_tree.tree.pos()]\n",
    "#         induced_tree = rewrite_tree(train_tree.tree, cats, replace_both=True)\n",
    "#         the_file.write(output_string(induced_tree))"
   ]
  },
  {
   "cell_type": "code",
   "execution_count": 12,
   "metadata": {},
   "outputs": [],
   "source": [
    "dev_treebank = iparse.load_dev(max_len_dev=999999)\n",
    "\n",
    "with open(f'pos_test_only.txt', 'a') as the_file:\n",
    "    for dev_tree in dev_treebank:\n",
    "        cats = [pos[1] for pos in dev_tree.tree.pos()]\n",
    "        induced_tree = rewrite_tree(dev_tree.tree, cats, replace_both=True)\n",
    "        the_file.write(output_string(induced_tree))\n",
    "        \n",
    "train_treebank = iparse.load_train(max_len_dev=40)\n",
    "\n",
    "with open(f'pos_train_only.txt', 'a') as the_file:\n",
    "    for train_tree in train_treebank:\n",
    "        cats = [pos[1] for pos in train_tree.tree.pos()]\n",
    "        induced_tree = rewrite_tree(train_tree.tree, cats, replace_both=True)\n",
    "        the_file.write(output_string(induced_tree))"
   ]
  },
  {
   "cell_type": "code",
   "execution_count": null,
   "metadata": {},
   "outputs": [],
   "source": [
    "david hall thing"
   ]
  }
 ],
 "metadata": {
  "kernelspec": {
   "display_name": "Python 3",
   "language": "python",
   "name": "python3"
  },
  "language_info": {
   "codemirror_mode": {
    "name": "ipython",
    "version": 3
   },
   "file_extension": ".py",
   "mimetype": "text/x-python",
   "name": "python",
   "nbconvert_exporter": "python",
   "pygments_lexer": "ipython3",
   "version": "3.8.3"
  }
 },
 "nbformat": 4,
 "nbformat_minor": 4
}
